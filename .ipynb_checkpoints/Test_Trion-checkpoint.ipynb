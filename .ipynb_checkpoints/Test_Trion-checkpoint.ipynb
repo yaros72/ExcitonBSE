{
 "cells": [
  {
   "cell_type": "code",
   "execution_count": 1,
   "metadata": {},
   "outputs": [],
   "source": [
    "from ExcitonBSEKeldysh import ExcitonMoS2\n",
    "import numpy as np\n",
    "import matplotlib.pyplot as plt\n",
    "%matplotlib inline"
   ]
  },
  {
   "cell_type": "code",
   "execution_count": 2,
   "metadata": {},
   "outputs": [],
   "source": [
    "Exciton=ExcitonMoS2(epsilon=2.5,N=30,vb=[6],cb=[7],spin_orbit=False,cutoff=0.7,shift=0.7)\n",
    "Exciton.constructTrionBasis()"
   ]
  },
  {
   "cell_type": "code",
   "execution_count": 3,
   "metadata": {},
   "outputs": [
    {
     "data": {
      "text/plain": [
       "2083"
      ]
     },
     "execution_count": 3,
     "metadata": {},
     "output_type": "execute_result"
    }
   ],
   "source": [
    "Exciton.NT\n"
   ]
  },
  {
   "cell_type": "code",
   "execution_count": 4,
   "metadata": {},
   "outputs": [],
   "source": [
    "Exciton.constructTrionHamiltonian()\n",
    "Exciton.constuctExcitonHamiltonian()"
   ]
  },
  {
   "cell_type": "code",
   "execution_count": 8,
   "metadata": {},
   "outputs": [],
   "source": [
    "Exciton.calculateAbsobtionSpectrumTrion(eta=0.0001)\n",
    "Exciton.calculateAbsobtionSpectrum(eta=0.0001)"
   ]
  },
  {
   "cell_type": "code",
   "execution_count": 9,
   "metadata": {},
   "outputs": [
    {
     "data": {
      "image/png": "[encoded data removed]",
      "text/plain": [
       "<Figure size 432x288 with 1 Axes>"
      ]
     },
     "metadata": {
      "needs_background": "light"
     },
     "output_type": "display_data"
    }
   ],
   "source": [
    "Exciton.plotAbsobtionSpectrum()\n",
    "plt.xlim([2.15,2.2])\n",
    "plt.ylim([0,None])\n",
    "plt.grid()\n",
    "# # plt.yticks([])\n",
    "# plt.xlabel('Energy [eV]')\n",
    "# plt.ylabel('Absorption')\n",
    "# plt.title('Full:{0}x{0} Cutoff:0.6 With SOC'.format(24))\n",
    "# # plt.grid()\n",
    "# plt.savefig('With_SOC/Trion_vs_Exciton_{0}.png'.format(24),dpi=600)\n"
   ]
  },
  {
   "cell_type": "code",
   "execution_count": null,
   "metadata": {},
   "outputs": [],
   "source": []
  }
 ],
 "metadata": {
  "kernelspec": {
   "display_name": "Python 3",
   "language": "python",
   "name": "python3"
  },
  "language_info": {
   "codemirror_mode": {
    "name": "ipython",
    "version": 3
   },
   "file_extension": ".py",
   "mimetype": "text/x-python",
   "name": "python",
   "nbconvert_exporter": "python",
   "pygments_lexer": "ipython3",
   "version": "3.6.7"
  }
 },
 "nbformat": 4,
 "nbformat_minor": 2
}
