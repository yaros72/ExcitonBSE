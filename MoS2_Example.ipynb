{
 "cells": [
  {
   "cell_type": "code",
   "execution_count": 1,
   "metadata": {
    "scrolled": true
   },
   "outputs": [
    {
     "name": "stdout",
     "output_type": "stream",
     "text": [
      "\n",
      "  ___ ___ ___ _ _ _  \n",
      " |   |   |_  | | | | \n",
      " | | | | | . | | | | \n",
      " |__ |  _|___|_____|  1.4.0\n",
      " |___|_|             \n",
      "\n",
      "User:   yzhumagulov@cpqm1\n",
      "Date:   Fri Feb  8 13:55:46 2019\n",
      "Arch:   x86_64\n",
      "Pid:    41932\n",
      "Python: 3.7.0\n",
      "gpaw:   /home/yzhumagulov/anaconda3/lib/python3.7/site-packages/gpaw\n",
      "_gpaw:  /home/yzhumagulov/anaconda3/lib/python3.7/site-packages/\n",
      "        _gpaw.cpython-37m-x86_64-linux-gnu.so\n",
      "ase:    /home/yzhumagulov/anaconda3/lib/python3.7/site-packages/ase (version 3.16.2)\n",
      "numpy:  /home/yzhumagulov/anaconda3/lib/python3.7/site-packages/numpy (version 1.15.1)\n",
      "scipy:  /home/yzhumagulov/anaconda3/lib/python3.7/site-packages/scipy (version 1.1.0)\n",
      "units:  Angstrom and eV\n",
      "cores:  1\n",
      "\n",
      "Input parameters:\n",
      "  kpts: [4 4 1]\n",
      "  mode: {ecut: 550.0,\n",
      "         name: pw}\n",
      "  nbands: -5\n",
      "  occupations: {name: fermi-dirac,\n",
      "                width: 0.005}\n",
      "  setups: sg15\n",
      "  xc: PBE\n",
      "\n",
      "System changes: positions, numbers, cell, pbc, initial_charges, initial_magmoms \n",
      "\n",
      "Initialize ...\n",
      "\n",
      "Norm-conserving UPF setup:\n",
      "  Element:   Mo\n",
      "  Z:         42\n",
      "  Valence: 14.0\n",
      "Projectors:\n",
      "  l=0 rcut=2.61\n",
      "  l=0 rcut=2.61\n",
      "  l=1 rcut=2.61\n",
      "  l=1 rcut=2.61\n",
      "  l=2 rcut=2.61\n",
      "  l=2 rcut=2.61\n",
      "No states stored on this setup\n",
      "Local potential cutoff: 2.74\n",
      "Comp charge cutoff:     2.74\n",
      "File: /home/yzhumagulov/gpaw-setups/sg15_oncv_upf_2015-10-07/Mo_ONCV_PBE-1.0.upf\n",
      "\n",
      "  LCAO basis set for Mo:\n",
      "    Name: atompaw.sz\n",
      "    This basis set was not loaded from a file\n",
      "    Number of radial functions: 4\n",
      "    Number of spherical harmonics: 10\n",
      "      l=0, rc=8.9500 Bohr: s0 e=-2.367 f=2.000\n",
      "      l=0, rc=8.9500 Bohr: s1 e=-0.156 f=1.000\n",
      "      l=1, rc=8.9500 Bohr: p0 e=-1.412 f=6.000\n",
      "      l=2, rc=8.9500 Bohr: d0 e=-0.139 f=5.000\n",
      "\n",
      "Norm-conserving UPF setup:\n",
      "  Element:    S\n",
      "  Z:         16\n",
      "  Valence:  6.0\n",
      "Projectors:\n",
      "  l=0 rcut=2.15\n",
      "  l=0 rcut=2.15\n",
      "  l=1 rcut=2.15\n",
      "  l=1 rcut=2.15\n",
      "No states stored on this setup\n",
      "Local potential cutoff: 2.44\n",
      "Comp charge cutoff:     2.44\n",
      "File: /home/yzhumagulov/gpaw-setups/sg15_oncv_upf_2015-10-07/S_ONCV_PBE-1.1.upf\n",
      "\n",
      "  LCAO basis set for S:\n",
      "    Name: atompaw.sz\n",
      "    This basis set was not loaded from a file\n",
      "    Number of radial functions: 2\n",
      "    Number of spherical harmonics: 4\n",
      "      l=0, rc=8.9500 Bohr: s0 e=-0.634 f=2.000\n",
      "      l=1, rc=8.9500 Bohr: p0 e=-0.259 f=4.000\n",
      "\n",
      "Reference energy: 0.000000\n",
      "\n",
      "Spin-paired calculation\n",
      "\n",
      "Occupation numbers:\n",
      "  Fermi-Dirac: width=0.0050 eV\n",
      "\n",
      "Convergence criteria:\n",
      "  Maximum total energy change: 0.0005 eV / electron\n",
      "  Maximum integral of absolute density change: 0.0001 electrons\n",
      "  Maximum integral of absolute eigenstate change: 4e-08 eV^2\n",
      "  Maximum number of iterations: 333\n",
      "\n",
      "Symmetries present (total): 12\n",
      "\n",
      "  ( 1  1  0)  ( 1  1  0)  ( 1  0  0)  ( 1  0  0)  ( 0  1  0)  ( 0  1  0)\n",
      "  ( 0 -1  0)  ( 0 -1  0)  ( 0  1  0)  ( 0  1  0)  (-1 -1  0)  (-1 -1  0)\n",
      "  ( 0  0  1)  ( 0  0 -1)  ( 0  0  1)  ( 0  0 -1)  ( 0  0  1)  ( 0  0 -1)\n",
      "\n",
      "  ( 0 -1  0)  ( 0 -1  0)  (-1  0  0)  (-1  0  0)  (-1 -1  0)  (-1 -1  0)\n",
      "  (-1  0  0)  (-1  0  0)  ( 1  1  0)  ( 1  1  0)  ( 1  0  0)  ( 1  0  0)\n",
      "  ( 0  0  1)  ( 0  0 -1)  ( 0  0  1)  ( 0  0 -1)  ( 0  0  1)  ( 0  0 -1)\n",
      "Note: your k-points are not as symmetric as your crystal!\n",
      "\n",
      "16 k-points: 4 x 4 x 1 Monkhorst-Pack grid\n",
      "6 k-points in the irreducible part of the Brillouin zone\n",
      "       k-points in crystal coordinates                weights\n",
      "   0:     0.12500000   -0.12500000    0.00000000          2/16\n",
      "   1:     0.12500000    0.12500000    0.00000000          2/16\n",
      "   2:     0.37500000   -0.37500000    0.00000000          2/16\n",
      "   3:     0.37500000   -0.12500000    0.00000000          4/16\n",
      "   4:     0.37500000    0.12500000    0.00000000          4/16\n",
      "   5:     0.37500000    0.37500000    0.00000000          2/16\n",
      "\n",
      "Wave functions: Plane wave expansion\n",
      "  Cutoff energy: 550.000 eV\n",
      "  Number of coefficients (min, max): 5915, 5994\n",
      "  Pulay-stress correction: 0.000000 eV/Ang^3 (de/decut=0.000000)\n",
      "  Using FFTW library\n",
      "  ScaLapack parameters: grid=1x1, blocksize=None \n",
      "\n",
      "Eigensolver\n",
      "   Davidson(niter=1, smin=None, normalize=True) \n",
      "\n",
      "Densities:\n",
      "  Coarse grid: 15*15*125 grid\n",
      "  Fine grid: 30*30*250 grid\n",
      "  Total Charge: 0.000000 \n",
      "\n",
      "Density mixing:\n",
      "  Method: separate\n",
      "  Backend: pulay\n",
      "  Linear mixing parameter: 0.05\n",
      "  Mixing with 5 old densities\n",
      "  Damping of long wave oscillations: 50 \n",
      "\n",
      "Hamiltonian:\n",
      "  XC and Coulomb potentials evaluated on a 30*30*250 grid\n",
      "  Using the PBE Exchange-Correlation functional\n",
      " \n",
      "\n",
      "Memory estimate:\n",
      "  Process memory now: 128.46 MiB\n",
      "  Calculator: 31.35 MiB\n",
      "    Density: 8.83 MiB\n",
      "      Arrays: 5.58 MiB\n",
      "      Localized functions: 1.10 MiB\n",
      "      Mixer: 2.15 MiB\n",
      "    Hamiltonian: 3.78 MiB\n",
      "      Arrays: 3.65 MiB\n",
      "      XC: 0.00 MiB\n",
      "      Poisson: 0.00 MiB\n",
      "      vbar: 0.13 MiB\n",
      "    Wavefunctions: 18.74 MiB\n",
      "      Arrays psit_nG: 9.88 MiB\n",
      "      Eigensolver: 2.15 MiB\n",
      "      Projections: 0.06 MiB\n",
      "      Projectors: 5.17 MiB\n",
      "      PW-descriptor: 1.48 MiB\n",
      "\n",
      "Total number of cores used: 1\n",
      "\n",
      "Number of atoms: 3\n",
      "Number of atomic orbitals: 18\n",
      "Number of bands in calculation: 18\n",
      "Bands to converge: occupied states only\n",
      "Number of valence electrons: 26.0\n",
      "\n",
      "... initialized\n",
      "\n",
      "Initializing position-dependent things.\n",
      "\n",
      "Density initialized from atomic densities\n"
     ]
    },
    {
     "name": "stderr",
     "output_type": "stream",
     "text": [
      "/home/yzhumagulov/anaconda3/lib/python3.7/site-packages/mkl_fft/_numpy_fft.py:244: FutureWarning: Using a non-tuple sequence for multidimensional indexing is deprecated; use `arr[tuple(seq)]` instead of `arr[seq]`. In the future this will be interpreted as an array index, `arr[np.array(seq)]`, which will result either in an error or a different result.\n",
      "  output = mkl_fft.ifft(a, n, axis)\n"
     ]
    },
    {
     "name": "stdout",
     "output_type": "stream",
     "text": [
      "Creating initial wave functions:\n",
      "  18 bands from LCAO basis set\n",
      "\n",
      "                     \n",
      "                     \n",
      "                     \n",
      "                     \n",
      "            S        \n",
      "                     \n",
      "       Mo            \n",
      "                     \n",
      "            S        \n",
      "                     \n",
      "                     \n",
      "                     \n",
      "                     \n",
      "\n",
      "Positions:\n",
      "   0 Mo     0.000000    0.000000   11.595000    ( 0.0000,  0.0000,  0.0000)\n",
      "   1 S      1.590000    0.917987   13.190000    ( 0.0000,  0.0000,  0.0000)\n",
      "   2 S      1.590000    0.917987   10.000000    ( 0.0000,  0.0000,  0.0000)\n",
      "\n",
      "Unit cell:\n",
      "           periodic     x           y           z      points  spacing\n",
      "  1. axis:    yes    3.180000    0.000000    0.000000    15     0.1836\n",
      "  2. axis:    yes   -1.590000    2.753961    0.000000    15     0.1836\n",
      "  3. axis:    yes    0.000000   -0.000000   23.190000   125     0.1855\n",
      "\n",
      "  Lengths:   3.180000   3.180000  23.190000\n",
      "  Angles:   90.000000  90.000000 120.000000\n",
      "\n",
      "Effective grid spacing dv^(1/3) = 0.1933\n",
      "\n",
      "                     log10-error:    total        iterations:\n",
      "           time      wfs    density  energy       fermi  poisson\n",
      "iter:   1  13:55:49  +2.87   +inf  -3644.262682    0             \n",
      "iter:   2  13:55:50  +2.36   +inf  -3699.647751    38            \n",
      "iter:   3  13:55:50  +1.91   +inf  -3713.469911    1             \n",
      "iter:   4  13:55:50  +1.39  +0.16  -3477.423227    4             \n",
      "iter:   5  13:55:51  +3.04  +0.14  -2711.124156    6             \n",
      "iter:   6  13:55:52  +2.61  +0.00  -2702.254145    40            \n",
      "iter:   7  13:55:52  +2.27  -0.10  -2524.350885    6             \n",
      "iter:   8  13:55:53  +1.45  -0.28  -2474.380093    31            \n",
      "iter:   9  13:55:53  +1.59  -0.37  -2412.910612    4             \n",
      "iter:  10  13:55:54  +1.80  -0.70  -2475.108865    38            \n",
      "iter:  11  13:55:54  +1.60  -0.32  -2450.725145    35            \n",
      "iter:  12  13:55:55  +1.37  -0.41  -2484.755124    38            \n",
      "iter:  13  13:55:56  +1.17  -0.29  -2486.072324    36            \n",
      "iter:  14  13:55:57  +1.07  -0.28  -2507.813953    13            \n",
      "iter:  15  13:55:57  +0.75  -0.21  -2450.542646    9             \n",
      "iter:  16  13:55:58  +0.65  -0.33  -2431.430715    0             \n",
      "iter:  17  13:55:59  +0.71  -0.60  -2468.366972    18            \n",
      "iter:  18  13:55:59  +0.17  -0.27  -2463.575095    31            \n",
      "iter:  19  13:56:00  -0.29  -0.30  -2449.079768    36            \n",
      "iter:  20  13:56:01  +1.01  -0.36  -2433.593603    4             \n",
      "iter:  21  13:56:02  +0.57  -0.68  -2427.412779    7             \n",
      "iter:  22  13:56:02  +0.54  -0.92  -2434.590240    38            \n",
      "iter:  23  13:56:03  +0.43  -0.58  -2427.522323    2             \n",
      "iter:  24  13:56:04  +0.17  -0.94  -2425.485254    1             \n",
      "iter:  25  13:56:04  -0.23  -1.19  -2426.193171    1             \n",
      "iter:  26  13:56:05  -0.44  -1.15  -2425.498061    1             \n",
      "iter:  27  13:56:06  -0.69  -1.35  -2425.275295    0             \n",
      "iter:  28  13:56:06  -1.01  -1.51  -2425.170526    0             \n",
      "iter:  29  13:56:07  -1.64  -1.73  -2425.180910    0             \n",
      "iter:  30  13:56:08  -1.92  -1.75  -2425.167663    0             \n",
      "iter:  31  13:56:08  -2.26  -1.94  -2425.167221    0             \n",
      "iter:  32  13:56:09  -2.49  -2.08  -2425.171258    0             \n",
      "iter:  33  13:56:10  -2.77  -2.10  -2425.169511    0             \n",
      "iter:  34  13:56:10  -3.09  -2.12  -2425.167973    0             \n",
      "iter:  35  13:56:11  -2.30  -2.17  -2425.181327    0             \n",
      "iter:  36  13:56:11  -2.35  -2.04  -2425.167534    0             \n",
      "iter:  37  13:56:12  -2.83  -2.53  -2425.166829    0             \n",
      "iter:  38  13:56:12  -3.19  -2.75  -2425.166851    0             \n",
      "iter:  39  13:56:13  -3.60  -2.92  -2425.166890    0             \n",
      "iter:  40  13:56:13  -3.87  -3.00  -2425.166945    0             \n",
      "iter:  41  13:56:14  -4.32  -3.08  -2425.166946    0             \n",
      "iter:  42  13:56:14  -4.57  -3.20  -2425.166911    0             \n",
      "iter:  43  13:56:15  -4.64  -3.34  -2425.166921    0             \n",
      "iter:  44  13:56:15  -4.74  -3.41  -2425.166913    0             \n",
      "iter:  45  13:56:16  -5.45  -3.56  -2425.166914    0             \n",
      "iter:  46  13:56:17  -5.20  -3.59  -2425.166920    0             \n",
      "iter:  47  13:56:17  -4.74  -3.63  -2425.166928    0             \n",
      "iter:  48  13:56:18  -5.24  -3.53  -2425.166918    0             \n",
      "iter:  49  13:56:18  -5.47  -3.70  -2425.166915    0             \n",
      "iter:  50  13:56:19  -5.79  -3.86  -2425.166916    0             \n",
      "iter:  51  13:56:19  -6.17  -4.04  -2425.166916    0             \n",
      "iter:  52  13:56:20  -6.44  -4.20  -2425.166916    0             \n",
      "iter:  53  13:56:20  -6.09  -4.22  -2425.166916    0             \n",
      "iter:  54  13:56:21  -6.22  -4.26  -2425.166916    0             \n",
      "iter:  55  13:56:22  -6.96  -4.74  -2425.166916    0             \n",
      "iter:  56  13:56:22  -7.25  -4.97  -2425.166916    0             \n",
      "iter:  57  13:56:23  -7.48  -4.77  -2425.166916    0             \n",
      "\n",
      "Converged after 57 iterations.\n",
      "\n",
      "Dipole moment: (3.441466, -1.986931, -0.000000) |e|*Ang\n",
      "\n",
      "Energy contributions relative to reference atoms: (reference = 0.000000)\n",
      "\n",
      "Kinetic:       +1050.720215\n",
      "Potential:     -3024.187387\n",
      "External:        +0.000000\n",
      "XC:            -335.335346\n",
      "Entropy (-ST):   -0.000000\n",
      "Local:         -116.364398\n",
      "--------------------------\n",
      "Free energy:   -2425.166916\n",
      "Extrapolated:  -2425.166916\n",
      "\n",
      "Fermi level: -1.60709\n",
      "\n",
      "Warning: Showing only first 2 kpts\n",
      " Kpt  Band  Eigenvalues  Occupancy\n",
      "  0    11     -3.59776    0.25000\n",
      "  0    12     -2.75313    0.25000\n",
      "  0    13     -0.12440    0.00000\n",
      "  0    14      0.02137    0.00000\n",
      "\n",
      "  1    11     -3.48058    0.25000\n",
      "  1    12     -3.08145    0.25000\n",
      "  1    13     -0.53215    0.00000\n",
      "  1    14     -0.10279    0.00000\n",
      "\n",
      "\n"
     ]
    },
    {
     "data": {
      "text/plain": [
       "-2425.166915640509"
      ]
     },
     "execution_count": 1,
     "metadata": {},
     "output_type": "execute_result"
    }
   ],
   "source": [
    "import numpy as np\n",
    "from math import pi\n",
    "import matplotlib.pyplot as plt\n",
    "from ase.build import bulk\n",
    "from gpaw import GPAW, PW, FermiDirac\n",
    "from ase.build import mx2\n",
    "%matplotlib inline\n",
    "\n",
    "N=8 # сетка по импульсам\n",
    "DFT_ecut=550\n",
    "nbands=10 # количество свободных зон в расчете\n",
    "vacuum=10 # вакуум по вертикали между слоями в ангстремах (в уме умножай на два)\n",
    "\n",
    "layer = mx2(vacuum=vacuum)\n",
    "layer.pbc[2]=True\n",
    "calc = GPAW(mode=PW(DFT_ecut),\n",
    "            xc='PBE',\n",
    "            kpts=(N,N, 1),\n",
    "            occupations=FermiDirac(0.005),\n",
    "            setups='sg15',\n",
    "            nbands=-nbands)\n",
    "layer.calc = calc\n",
    "layer.get_potential_energy()"
   ]
  },
  {
   "cell_type": "code",
   "execution_count": 2,
   "metadata": {},
   "outputs": [],
   "source": [
    "from ase.units import Bohr,Hartree\n",
    "from tqdm import tqdm\n",
    "from gpaw.wavefunctions.pw import PWDescriptor\n",
    "from gpaw.kpt_descriptor import KPointDescriptor"
   ]
  },
  {
   "cell_type": "markdown",
   "metadata": {},
   "source": [
    "Вычислим восприимчивость независимых частиц:\n",
    "\n",
    "$$\\chi^0_{G,G^{'}}(q)=\\frac{4}{\\Omega}\\sum_{vc}\\sum_{k\\in IBZ} w_k \\frac{ <vk+q|e^{i(q+G)r}|ck> <ck|e^{-i(q+G^{'})r^{'}}|vk+q>}{\\epsilon_{vk}-\\epsilon_{ck}}$$\n",
    "\n",
    "$\\Omega$ - объем ячейки\n",
    "\n",
    "$\\epsilon_{vk}$ - энергии орбиталей Кона-Шэма\n",
    "\n",
    "$<vk+q|e^{i(q+G)r}|ck>$ - парная плотность орбиталей Кона-Шэма\n",
    "\n",
    "$w_k$ - веса точек редуцированной зоны Бриллюэна"
   ]
  },
  {
   "cell_type": "markdown",
   "metadata": {},
   "source": [
    "Расчитаем объем ячейки в Борах:"
   ]
  },
  {
   "cell_type": "code",
   "execution_count": 3,
   "metadata": {},
   "outputs": [],
   "source": [
    "volume = np.abs(np.linalg.det(calc.wfs.gd.cell_cv))"
   ]
  },
  {
   "cell_type": "markdown",
   "metadata": {},
   "source": [
    "Редуцированную зону Бриллюэна:"
   ]
  },
  {
   "cell_type": "code",
   "execution_count": 4,
   "metadata": {},
   "outputs": [],
   "source": [
    "K=calc.get_ibz_k_points()\n",
    "NK=K.shape[0]"
   ]
  },
  {
   "cell_type": "markdown",
   "metadata": {},
   "source": [
    "Энергии орбиталей Кона-Шэма $\\epsilon_{nk}$:"
   ]
  },
  {
   "cell_type": "code",
   "execution_count": 5,
   "metadata": {},
   "outputs": [],
   "source": [
    "EK=[calc.get_eigenvalues(k) for k in range(NK)]\n",
    "EK=np.array(EK)/Hartree"
   ]
  },
  {
   "cell_type": "markdown",
   "metadata": {},
   "source": [
    "Веса точек редуцированной зоны Бриллюэна:"
   ]
  },
  {
   "cell_type": "code",
   "execution_count": 6,
   "metadata": {},
   "outputs": [],
   "source": [
    "wk=calc.get_k_point_weights()"
   ]
  },
  {
   "cell_type": "markdown",
   "metadata": {},
   "source": [
    "Количество валентных зон:"
   ]
  },
  {
   "cell_type": "code",
   "execution_count": 7,
   "metadata": {},
   "outputs": [],
   "source": [
    "nvalence=calc.occupations.nvalence\n",
    "vb=np.arange(0,nvalence/2,dtype=int)\n",
    "cb=np.arange(nvalence/2,calc.get_number_of_bands(),dtype=int)"
   ]
  },
  {
   "cell_type": "markdown",
   "metadata": {},
   "source": [
    "Расчитаем точки $q$:"
   ]
  },
  {
   "cell_type": "code",
   "execution_count": 75,
   "metadata": {},
   "outputs": [],
   "source": [
    "K=calc.get_ibz_k_points()\n",
    "NK=K.shape[0]\n",
    "\n",
    "q=[]\n",
    "for i in range(-N,N):\n",
    "    for j in range(-N,N):\n",
    "        q.append([i,j,0])\n",
    "q=np.array(q)/N"
   ]
  },
  {
   "cell_type": "markdown",
   "metadata": {},
   "source": [
    "Расчитаем $k+q$ c учетом того что $k \\in IBZ$:"
   ]
  },
  {
   "cell_type": "code",
   "execution_count": 76,
   "metadata": {},
   "outputs": [],
   "source": [
    "k_=np.zeros((q.shape[0],K.shape[0]),dtype=int)\n",
    "bz_to_ibz_map=calc.get_bz_to_ibz_map()\n",
    "for i in range(q.shape[0]):\n",
    "    kpoints=calc.wfs.kd.find_k_plus_q(q[i])\n",
    "    for j in range(len(kpoints)):\n",
    "        k_[i,bz_to_ibz_map[j]]=bz_to_ibz_map[kpoints[j]]"
   ]
  },
  {
   "cell_type": "markdown",
   "metadata": {},
   "source": [
    "Класс - дескриптор <b> PWDescriptor</b> является основой для работы в базисе плоских волн. Для инициализации данного класса требуются следующие аргументы:\n",
    "\n",
    "$E_{cut}$ - максимальная кинетическая энергия плоской волны $\\frac{\\left|G+q\\right|^{2}}{2}\\le E_{cut}$\n",
    "\n",
    "$gd$ - <b>GridDescriptor</b> класс-дескриптор сетки в прямом пространстве. Следует использовать объект <b>calc.wfs.gd</b>, который несет информацию о геометрии решетки и сетки на которой вычислялись волновые функции Кона-Шэма.\n",
    "\n",
    "$kd$ - <b>KPointDescriptor</b> класс-дескриптор импульсов для генерации базиса плоских волн с учетом $\\frac{\\left|G+q\\right|^{2}}{2}\\le E_{cut}$. \n",
    "\n",
    "Для инициализации <b>KPointDescriptor</b> требуется один аргумент - массив размера (N,3), где N - количество векторов $q$."
   ]
  },
  {
   "cell_type": "code",
   "execution_count": 77,
   "metadata": {},
   "outputs": [],
   "source": [
    "kd=KPointDescriptor(q)\n",
    "q=np.dot(q,  2.0 * np.pi * calc.wfs.gd.icell_cv)\n",
    "pd=PWDescriptor(ecut=np.max(EK),gd=calc.wfs.gd,kd=kd,dtype=complex)"
   ]
  },
  {
   "cell_type": "markdown",
   "metadata": {},
   "source": [
    "Чтобы вычислить парную плотность $\\rho_{i,j}(q,G)$ мы будем использовать следующие выражения: \n",
    "\n",
    "$\\rho_{i,j}(G)=\\left<i\\left| e^{i(q+G)r} \\right|j\\right> \\quad i=u_{nk_n}(r)e^{ik_n r} \\quad j=u_{mk_m}(r)e^{ik_m r} \\quad k_n=k_m+q$\n",
    "\n",
    "\n",
    "$\\rho_{i,j}(G)=\\int u_{nk_n}^{*}(r)e^{-ik_n r} e^{i(q+G)r} u_{mk_m}(r)e^{ik_m r} dr$\n",
    "\n",
    "$\\rho_{i,j}(G)=\\int u_{nk_n}^{*}(r)e^{-(ik_m+q) r} e^{i(q+G)r} u_{mk_m}(r)e^{ik_m r} dr$\n",
    "\n",
    "$\\rho_{i,j}(G)=\\int u_{nk_n}^{*}(r) e^{iGr} u_{mk_m}(r) dr$\n",
    "\n",
    "$\\rho_{i,j}(G)=FFT( u_{nk_n}^{*}(r) u_{mk_m}(r) )$\n",
    "\n",
    "Для получения $u_{nk}(r)$ следует использовать следующую функцию <b>calc.get_pseudo_wave_funtion(band=n,kpt=k,spin=0)</b>\n",
    "\n",
    "Фурье преобразование $u_{nk_n}^{*}(r) u_{mk_m}(r)$ можно сделать с помощью <b>pd.fft( $u_{nk_n}^{*}(r) u_{mk_m}(r)$ )</b> для векторов $G$ базиса $e^{iGr}$ с учетом $\\frac{\\left|G+q\\right|^{2}}{2}\\le E_{cut}$"
   ]
  },
  {
   "cell_type": "code",
   "execution_count": 78,
   "metadata": {},
   "outputs": [
    {
     "name": "stdout",
     "output_type": "stream",
     "text": [
      "q-point:1/64\n",
      "q-point:2/64\n",
      "q-point:3/64\n",
      "q-point:4/64\n",
      "q-point:5/64\n",
      "q-point:6/64\n",
      "q-point:7/64\n",
      "q-point:8/64\n",
      "q-point:9/64\n",
      "q-point:10/64\n",
      "q-point:11/64\n",
      "q-point:12/64\n",
      "q-point:13/64\n",
      "q-point:14/64\n",
      "q-point:15/64\n",
      "q-point:16/64\n",
      "q-point:17/64\n",
      "q-point:18/64\n",
      "q-point:19/64\n",
      "q-point:20/64\n",
      "q-point:21/64\n",
      "q-point:22/64\n",
      "q-point:23/64\n",
      "q-point:24/64\n",
      "q-point:25/64\n",
      "q-point:26/64\n",
      "q-point:27/64\n",
      "q-point:28/64\n",
      "q-point:29/64\n",
      "q-point:30/64\n",
      "q-point:31/64\n",
      "q-point:32/64\n",
      "q-point:33/64\n",
      "q-point:34/64\n",
      "q-point:35/64\n",
      "q-point:36/64\n",
      "q-point:37/64\n",
      "q-point:38/64\n",
      "q-point:39/64\n",
      "q-point:40/64\n",
      "q-point:41/64\n",
      "q-point:42/64\n",
      "q-point:43/64\n",
      "q-point:44/64\n",
      "q-point:45/64\n",
      "q-point:46/64\n",
      "q-point:47/64\n",
      "q-point:48/64\n",
      "q-point:49/64\n",
      "q-point:50/64\n",
      "q-point:51/64\n",
      "q-point:52/64\n",
      "q-point:53/64\n",
      "q-point:54/64\n",
      "q-point:55/64\n",
      "q-point:56/64\n",
      "q-point:57/64\n",
      "q-point:58/64\n",
      "q-point:59/64\n",
      "q-point:60/64\n",
      "q-point:61/64\n",
      "q-point:62/64\n",
      "q-point:63/64\n",
      "q-point:64/64\n"
     ]
    }
   ],
   "source": [
    "norm=np.sqrt(Bohr**3*calc.wfs.gd.dv)\n",
    "\n",
    "chi0_q=[]\n",
    "for iq in range(q.shape[0]):\n",
    "    G=pd.get_reciprocal_vectors(q=iq)\n",
    "    chi0=np.zeros((G.shape[0],G.shape[0]),dtype=np.complex)\n",
    "    for k in range(NK):\n",
    "        for v in vb:\n",
    "            for c in cb:\n",
    "                wf1=norm*calc.get_pseudo_wave_function(band=v,kpt=k,spin=0)\n",
    "                wf2=norm*calc.get_pseudo_wave_function(band=c,kpt=k_[iq,k],spin=0)\n",
    "                rho=pd.fft(wf1.conj()*wf2,q=iq)\n",
    "                denominator=(EK[k,v]-EK[k_[iq,k],c])\n",
    "                chi0+=4*wk[k]*rho[:,None]*rho[None,:].conj()/denominator                  \n",
    "    chi0/=(volume)\n",
    "    chi0_q.append(chi0)\n",
    "    print('q-point:%d/%d'%(iq+1,q.shape[0]))"
   ]
  },
  {
   "cell_type": "markdown",
   "metadata": {},
   "source": [
    "Расчитаем диэлектрическую функцию $$\\varepsilon_{GG^{'}}(q)=\\delta_{GG^{'}}-\\frac{4 \\pi}{|q+G|^{2}}\\chi^{0}_{GG^{'}}(q)$$"
   ]
  },
  {
   "cell_type": "code",
   "execution_count": 79,
   "metadata": {},
   "outputs": [
    {
     "name": "stderr",
     "output_type": "stream",
     "text": [
      "/home/yzhumagulov/anaconda3/lib/python3.7/site-packages/ipykernel_launcher.py:7: RuntimeWarning: divide by zero encountered in double_scalars\n",
      "  import sys\n"
     ]
    }
   ],
   "source": [
    "epsilon_q=[];W_q=[];V_q=[]\n",
    "\n",
    "for iq in range(q.shape[0]):\n",
    "    G=pd.get_reciprocal_vectors(q=iq)\n",
    "    V=np.zeros((G.shape[0],G.shape[0]))\n",
    "    for G1 in range(G.shape[0]):\n",
    "        V[G1,G1]=4*np.pi/(np.linalg.norm(G[G1]+q[iq])**2)\n",
    "    V[np.abs(V)==np.inf]=0\n",
    "    epsilon=np.eye(G.shape[0])-np.dot(V,chi0_q[iq])\n",
    "    W=np.dot(np.linalg.inv(epsilon),V)\n",
    "    epsilon_q.append(epsilon);W_q.append(W);V_q.append(V)"
   ]
  },
  {
   "cell_type": "code",
   "execution_count": 80,
   "metadata": {},
   "outputs": [],
   "source": [
    "chi0_q=np.array([chi[0,0] for chi in chi0_q])\n",
    "W0_q=np.array([W[0,0] for W in W_q])\n",
    "V0_q=np.array([V[0,0] for V in V_q])\n",
    "epsilon0_q=np.array([epsilon[0,0] for epsilon in epsilon_q])"
   ]
  },
  {
   "cell_type": "code",
   "execution_count": 86,
   "metadata": {},
   "outputs": [
    {
     "data": {
      "text/plain": [
       "<matplotlib.colorbar.Colorbar at 0x7f2c182688d0>"
      ]
     },
     "execution_count": 86,
     "metadata": {},
     "output_type": "execute_result"
    },
    {
     "data": {
      "image/png": "[encoded data removed]",
      "text/plain": [
       "<Figure size 288x288 with 2 Axes>"
      ]
     },
     "metadata": {
      "needs_background": "light"
     },
     "output_type": "display_data"
    }
   ],
   "source": [
    "plt.figure(figsize=(4,4))\n",
    "plt.scatter(q[:,0],q[:,1],c=chi0_q.real,s=200)\n",
    "plt.axis('equal')\n",
    "plt.grid()\n",
    "plt.colorbar()"
   ]
  },
  {
   "cell_type": "code",
   "execution_count": 83,
   "metadata": {},
   "outputs": [
    {
     "data": {
      "text/plain": [
       "<matplotlib.colorbar.Colorbar at 0x7f2c1b9dce10>"
      ]
     },
     "execution_count": 83,
     "metadata": {},
     "output_type": "execute_result"
    },
    {
     "data": {
      "image/png": "[encoded data removed]",
      "text/plain": [
       "<Figure size 288x288 with 2 Axes>"
      ]
     },
     "metadata": {
      "needs_background": "light"
     },
     "output_type": "display_data"
    }
   ],
   "source": [
    "plt.figure(figsize=(4,4))\n",
    "plt.scatter(q[:,0],q[:,1],c=W0_q.real,s=200)\n",
    "plt.axis('equal')\n",
    "plt.grid()\n",
    "plt.colorbar()"
   ]
  },
  {
   "cell_type": "markdown",
   "metadata": {},
   "source": [
    "Расчитаем $$\\varepsilon_M(\\omega)=1-\\lim_{q\\to 0,G\\to 0}\\frac{4\\pi}{|q+G|^{2}}\\sum_{vc}\\sum_{k\\in IBZ}\\frac{|<vk|e^{i(q+G)r}|ck>|^{2}}{\\omega+i\\eta+\\epsilon_{vk}-\\epsilon_{ck}}$$\n",
    "\n",
    "$$\\lim_{q\\to 0,G\\to 0} <vk|e^{i(q+G)r}|ck>=q\\frac{<vk|G|ck>}{\\epsilon_{ck}-\\epsilon_{vk}}$$\n",
    "\n",
    "$$\\varepsilon_M(\\omega)=1-4\\pi\\sum_{vc}\\sum_{k\\in IBZ}\\frac{|<vk|G|ck>|^{2}}{(\\omega+i\\eta+\\epsilon_{vk}-\\epsilon_{ck})(\\epsilon_{ck}-\\epsilon_{vk})^{2}}$$"
   ]
  },
  {
   "cell_type": "code",
   "execution_count": 57,
   "metadata": {
    "scrolled": true
   },
   "outputs": [
    {
     "name": "stderr",
     "output_type": "stream",
     "text": [
      "100%|██████████| 6/6 [00:00<00:00, 17.29it/s]\n"
     ]
    }
   ],
   "source": [
    "omega=np.linspace(0,30,3000)/Hartree;eta=0.01/Hartree\n",
    "epsilon=np.zeros(omega.size,dtype=np.complex)\n",
    "for k in tqdm(range(NK)):\n",
    "    for v in vb:\n",
    "        for c in cb:\n",
    "            wf1=calc.wfs.get_wave_function_array(n=v,k=k,s=0,realspace=False)\n",
    "            wf2=calc.wfs.get_wave_function_array(n=c,k=k,s=0,realspace=False)\n",
    "            G_=calc.wfs.pd.get_reciprocal_vectors(q=k,add_q=True)\n",
    "            ME=np.sum([calc.wfs.pd.integrate(wf1,G_[:,i]*wf2)/(EK[k,c]-EK[k,v]) for i in range(3)])\n",
    "            denominator=(omega+1j*eta-EK[k,c]+EK[k,v])\n",
    "            epsilon+=4*wk[k]*np.abs(ME)**2/denominator/volume\n",
    "epsilon=1-4*np.pi*epsilon"
   ]
  },
  {
   "cell_type": "code",
   "execution_count": 58,
   "metadata": {},
   "outputs": [
    {
     "data": {
      "image/png": "[encoded data removed]",
      "text/plain": [
       "<Figure size 432x288 with 1 Axes>"
      ]
     },
     "metadata": {
      "needs_background": "light"
     },
     "output_type": "display_data"
    }
   ],
   "source": [
    "plt.plot(omega*Hartree,epsilon.imag)\n",
    "plt.plot(omega*Hartree,epsilon.real)\n",
    "plt.xlim([0,5])\n",
    "plt.xlabel('$\\\\omega / [eV]$')\n",
    "plt.ylabel('$\\\\mathrm{Im} \\\\epsilon(\\\\omega)$')\n",
    "plt.grid()"
   ]
  },
  {
   "cell_type": "markdown",
   "metadata": {},
   "source": [
    "# Проверим f-sum:"
   ]
  },
  {
   "cell_type": "markdown",
   "metadata": {},
   "source": [
    "Получается:"
   ]
  },
  {
   "cell_type": "code",
   "execution_count": 59,
   "metadata": {},
   "outputs": [
    {
     "name": "stdout",
     "output_type": "stream",
     "text": [
      "53.87180277437259\n"
     ]
    }
   ],
   "source": [
    "print(np.trapz(epsilon.imag*omega,omega)*volume/(2*np.pi**2))"
   ]
  },
  {
   "cell_type": "markdown",
   "metadata": {},
   "source": [
    "Должно быть:"
   ]
  },
  {
   "cell_type": "code",
   "execution_count": 60,
   "metadata": {},
   "outputs": [
    {
     "data": {
      "text/plain": [
       "26.0"
      ]
     },
     "execution_count": 60,
     "metadata": {},
     "output_type": "execute_result"
    }
   ],
   "source": [
    "calc.occupations.nvalence"
   ]
  },
  {
   "cell_type": "markdown",
   "metadata": {},
   "source": [
    "Макроскопическая диэлектрическая константа:"
   ]
  },
  {
   "cell_type": "code",
   "execution_count": 61,
   "metadata": {},
   "outputs": [
    {
     "data": {
      "text/plain": [
       "9.823585606690013"
      ]
     },
     "execution_count": 61,
     "metadata": {},
     "output_type": "execute_result"
    }
   ],
   "source": [
    "epsilon[0].real"
   ]
  },
  {
   "cell_type": "code",
   "execution_count": null,
   "metadata": {},
   "outputs": [],
   "source": []
  }
 ],
 "metadata": {
  "kernelspec": {
   "display_name": "Python 3",
   "language": "python",
   "name": "python3"
  },
  "language_info": {
   "codemirror_mode": {
    "name": "ipython",
    "version": 3
   },
   "file_extension": ".py",
   "mimetype": "text/x-python",
   "name": "python",
   "nbconvert_exporter": "python",
   "pygments_lexer": "ipython3",
   "version": "3.7.0"
  }
 },
 "nbformat": 4,
 "nbformat_minor": 2
}
