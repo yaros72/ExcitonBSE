{
 "cells": [
  {
   "cell_type": "code",
   "execution_count": 1,
   "metadata": {},
   "outputs": [],
   "source": [
    "from ExcitonBSEKeldysh import ExcitonMoS2\n",
    "import numpy as np\n",
    "import matplotlib.pyplot as plt\n",
    "%matplotlib inline"
   ]
  },
  {
   "cell_type": "markdown",
   "metadata": {},
   "source": [
    "## Solve optical exciton problem "
   ]
  },
  {
   "cell_type": "code",
   "execution_count": 13,
   "metadata": {},
   "outputs": [
    {
     "name": "stdout",
     "output_type": "stream",
     "text": [
      "Exciton Hamiltonian size: 3600X3600\n",
      "Construction Begin!\n",
      "Construction Done!\n"
     ]
    }
   ],
   "source": [
    "Exciton=ExcitonMoS2(epsilon=2.5,N=30,vb=[12,13],cb=[14,15],spin_orbit=True)\n",
    "Exciton.constuctExcitonHamiltonian(Q=[0,0,0],optic=False)\n",
    "# Exciton.solveExcitonHamiltonian(save=False)"
   ]
  },
  {
   "cell_type": "code",
   "execution_count": 14,
   "metadata": {},
   "outputs": [
    {
     "name": "stdout",
     "output_type": "stream",
     "text": [
      "CPU times: user 51.5 s, sys: 2.21 s, total: 53.7 s\n",
      "Wall time: 6.89 s\n"
     ]
    }
   ],
   "source": [
    "%%time\n",
    "Exciton.calculateAbsobtionSpectrum(eta=0.01,n_iter=300,omega_n=5000)"
   ]
  },
  {
   "cell_type": "code",
   "execution_count": 15,
   "metadata": {},
   "outputs": [],
   "source": [
    "E,D=np.linalg.eigh(Exciton.HH)"
   ]
  },
  {
   "cell_type": "code",
   "execution_count": 16,
   "metadata": {},
   "outputs": [],
   "source": [
    "optical=np.zeros(Exciton.NH)\n",
    "P=np.array([Exciton.dx[indx] for indx in Exciton.indexes])\n",
    "P/=np.linalg.norm(P)\n",
    "for i in range(Exciton.NH):\n",
    "    optical[i]=np.abs(np.sum(P*D[:,i].conj()))**2\n",
    "omega_max=5;eta=0.02\n",
    "omega_n=5000\n",
    "omega=np.linspace(0,omega_max,omega_n+1);omega=np.delete(omega,0)\n",
    "absorbtion=np.zeros(omega.size,dtype=np.complex)\n",
    "for i in range(omega.size):\n",
    "    absorbtion[i]=np.sum(optical/(omega[i]+1j*eta-E))\n",
    "spectrum=-absorbtion.imag"
   ]
  },
  {
   "cell_type": "code",
   "execution_count": 17,
   "metadata": {},
   "outputs": [
    {
     "data": {
      "text/plain": [
       "(1.5, 3.5)"
      ]
     },
     "execution_count": 17,
     "metadata": {},
     "output_type": "execute_result"
    },
    {
     "data": {
      "image/png": "[encoded data removed]",
      "text/plain": [
       "<Figure size 432x288 with 1 Axes>"
      ]
     },
     "metadata": {
      "needs_background": "light"
     },
     "output_type": "display_data"
    }
   ],
   "source": [
    "\n",
    "plt.plot(omega,spectrum)\n",
    "Exciton.plotAbsobtionSpectrum()\n",
    "plt.xlim([1.5,3.5])"
   ]
  },
  {
   "cell_type": "code",
   "execution_count": 14,
   "metadata": {},
   "outputs": [
    {
     "name": "stdout",
     "output_type": "stream",
     "text": [
      "Construction Begin!\n",
      "Construction Done!\n"
     ]
    }
   ],
   "source": []
  },
  {
   "cell_type": "code",
   "execution_count": 11,
   "metadata": {},
   "outputs": [],
   "source": [
    "N1=20\n",
    "gamma=np.array([0.,0.,0.])\n",
    "M=np.array([0,0.5,0.])\n",
    "K=np.array([1./3.,1./3.,0.])\n",
    "kpoints=[];N1=N1;N2=int(N1/2);N3=int(np.sqrt(N1**2+N2**2))\n",
    "for i in range(N1):\n",
    "    kpoints.append(i*M/N1+(N1-i)*gamma/N1)\n",
    "for i in range(N2):\n",
    "    kpoints.append(i*K/N2+(N2-i)*M/N2)\n",
    "for i in range(N3):\n",
    "    kpoints.append(i*gamma/N3+(N3-i)*K/N3)\n",
    "kpoints=np.array(kpoints)"
   ]
  },
  {
   "cell_type": "code",
   "execution_count": 12,
   "metadata": {},
   "outputs": [
    {
     "data": {
      "text/plain": [
       "52"
      ]
     },
     "execution_count": 12,
     "metadata": {},
     "output_type": "execute_result"
    }
   ],
   "source": [
    "len(kpoints)"
   ]
  },
  {
   "cell_type": "code",
   "execution_count": 18,
   "metadata": {},
   "outputs": [
    {
     "name": "stdout",
     "output_type": "stream",
     "text": [
      "Construction Begin!\n",
      "Construction Done!\n",
      "Construction Begin!\n",
      "Construction Done!\n",
      "Construction Begin!\n",
      "Construction Done!\n",
      "Construction Begin!\n",
      "Construction Done!\n",
      "Construction Begin!\n",
      "Construction Done!\n",
      "Construction Begin!\n",
      "Construction Done!\n",
      "Construction Begin!\n",
      "Construction Done!\n",
      "Construction Begin!\n",
      "Construction Done!\n",
      "Construction Begin!\n",
      "Construction Done!\n",
      "Construction Begin!\n",
      "Construction Done!\n",
      "Construction Begin!\n",
      "Construction Done!\n",
      "Construction Begin!\n",
      "Construction Done!\n",
      "Construction Begin!\n",
      "Construction Done!\n",
      "Construction Begin!\n",
      "Construction Done!\n",
      "Construction Begin!\n",
      "Construction Done!\n",
      "Construction Begin!\n",
      "Construction Done!\n",
      "Construction Begin!\n",
      "Construction Done!\n",
      "Construction Begin!\n",
      "Construction Done!\n",
      "Construction Begin!\n",
      "Construction Done!\n",
      "Construction Begin!\n",
      "Construction Done!\n",
      "Construction Begin!\n",
      "Construction Done!\n",
      "Construction Begin!\n",
      "Construction Done!\n",
      "Construction Begin!\n",
      "Construction Done!\n",
      "Construction Begin!\n",
      "Construction Done!\n",
      "Construction Begin!\n",
      "Construction Done!\n",
      "Construction Begin!\n",
      "Construction Done!\n",
      "Construction Begin!\n",
      "Construction Done!\n",
      "Construction Begin!\n",
      "Construction Done!\n",
      "Construction Begin!\n",
      "Construction Done!\n",
      "Construction Begin!\n",
      "Construction Done!\n",
      "Construction Begin!\n",
      "Construction Done!\n",
      "Construction Begin!\n",
      "Construction Done!\n",
      "Construction Begin!\n",
      "Construction Done!\n",
      "Construction Begin!\n",
      "Construction Done!\n",
      "Construction Begin!\n",
      "Construction Done!\n",
      "Construction Begin!\n",
      "Construction Done!\n",
      "Construction Begin!\n",
      "Construction Done!\n",
      "Construction Begin!\n",
      "Construction Done!\n",
      "Construction Begin!\n",
      "Construction Done!\n",
      "Construction Begin!\n",
      "Construction Done!\n",
      "Construction Begin!\n",
      "Construction Done!\n",
      "Construction Begin!\n",
      "Construction Done!\n",
      "Construction Begin!\n",
      "Construction Done!\n",
      "Construction Begin!\n",
      "Construction Done!\n",
      "Construction Begin!\n",
      "Construction Done!\n",
      "Construction Begin!\n",
      "Construction Done!\n",
      "Construction Begin!\n",
      "Construction Done!\n",
      "Construction Begin!\n",
      "Construction Done!\n",
      "Construction Begin!\n",
      "Construction Done!\n",
      "Construction Begin!\n",
      "Construction Done!\n",
      "Construction Begin!\n",
      "Construction Done!\n",
      "Construction Begin!\n",
      "Construction Done!\n"
     ]
    }
   ],
   "source": [
    "E_bands=[]\n",
    "for q in kpoints:\n",
    "    Exciton.constuctExcitonHamiltonian(Q=q,optic=False)\n",
    "    E,D=np.linalg.eigh(Exciton.HH)\n",
    "    E_bands.append(E)\n",
    "E_bands=np.array(E_bands)"
   ]
  },
  {
   "cell_type": "code",
   "execution_count": 21,
   "metadata": {},
   "outputs": [
    {
     "data": {
      "text/plain": [
       "[<matplotlib.lines.Line2D at 0x7f0232feab38>]"
      ]
     },
     "execution_count": 21,
     "metadata": {},
     "output_type": "execute_result"
    },
    {
     "data": {
      "image/png": "[encoded data removed]",
      "text/plain": [
       "<Figure size 432x288 with 1 Axes>"
      ]
     },
     "metadata": {
      "needs_background": "light"
     },
     "output_type": "display_data"
    }
   ],
   "source": [
    "plt.plot(E_bands.T)"
   ]
  },
  {
   "cell_type": "code",
   "execution_count": 22,
   "metadata": {},
   "outputs": [
    {
     "data": {
      "text/plain": [
       "(3600,)"
      ]
     },
     "execution_count": 22,
     "metadata": {},
     "output_type": "execute_result"
    }
   ],
   "source": [
    "E_bands.shape"
   ]
  },
  {
   "cell_type": "code",
   "execution_count": null,
   "metadata": {},
   "outputs": [],
   "source": []
  }
 ],
 "metadata": {
  "kernelspec": {
   "display_name": "Python 3",
   "language": "python",
   "name": "python3"
  },
  "language_info": {
   "codemirror_mode": {
    "name": "ipython",
    "version": 3
   },
   "file_extension": ".py",
   "mimetype": "text/x-python",
   "name": "python",
   "nbconvert_exporter": "python",
   "pygments_lexer": "ipython3",
   "version": "3.6.7"
  }
 },
 "nbformat": 4,
 "nbformat_minor": 2
}
