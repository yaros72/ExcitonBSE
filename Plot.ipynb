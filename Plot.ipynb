{
 "cells": [
  {
   "cell_type": "code",
   "execution_count": null,
   "metadata": {},
   "outputs": [],
   "source": [
    "import matplotlib\n",
    "matplotlib.rc('axes',edgecolor='white')\n",
    "# plt.figure(figsize=(8,6))\n",
    "plt.title('Full:30x30 Cutoff:0.6')\n",
    "plt.scatter(Exciton.K[:,:,1],Exciton.K[:,:,0],marker='.',s=10,label='Full')\n",
    "plt.scatter(K[:,1],K[:,0],marker='.',s=40,label='Reduced')\n",
    "plt.axis('equal')\n",
    "plt.legend()\n",
    "plt.xticks([])\n",
    "plt.yticks([])\n",
    "delta=0.05\n",
    "plt.arrow(0-np.sqrt(2)*delta, 0-delta, Exciton.k1[1], Exciton.k1[0], head_width=0.05, head_length=0.1, fc='k', ec='k',length_includes_head=True)\n",
    "plt.arrow(0-np.sqrt(2)*delta, 0-delta, Exciton.k2[1], Exciton.k2[0], head_width=0.05, head_length=0.1, fc='k', ec='k',length_includes_head=True)\n",
    "plt.text(Exciton.k2[1]/2,-0.15, s='$k_1$')\n",
    "plt.text(Exciton.k1[1]/2-0.2,Exciton.k1[0]/2, s='$k_2$')\n",
    "plt.savefig('Reduced_vs_Full.png',dpi=600)"
   ]
  }
 ],
 "metadata": {
  "kernelspec": {
   "display_name": "Python 3",
   "language": "python",
   "name": "python3"
  },
  "language_info": {
   "codemirror_mode": {
    "name": "ipython",
    "version": 3
   },
   "file_extension": ".py",
   "mimetype": "text/x-python",
   "name": "python",
   "nbconvert_exporter": "python",
   "pygments_lexer": "ipython3",
   "version": "3.6.7"
  }
 },
 "nbformat": 4,
 "nbformat_minor": 2
}
