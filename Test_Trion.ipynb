{
 "cells": [
  {
   "cell_type": "code",
   "execution_count": 44,
   "metadata": {},
   "outputs": [],
   "source": [
    "from ExcitonBSEKeldysh import ExcitonMoS2\n",
    "import numpy as np\n",
    "import matplotlib.pyplot as plt\n",
    "%matplotlib inline"
   ]
  },
  {
   "cell_type": "code",
   "execution_count": 45,
   "metadata": {},
   "outputs": [],
   "source": [
    "Exciton=ExcitonMoS2(epsilon=2.5,N=24,vb=[6],cb=[7],spin_orbit=False,cutoff=0.6,shift=0.7)\n",
    "Exciton.constructTrionBasis()"
   ]
  },
  {
   "cell_type": "code",
   "execution_count": 46,
   "metadata": {},
   "outputs": [
    {
     "data": {
      "text/plain": [
       "529"
      ]
     },
     "execution_count": 46,
     "metadata": {},
     "output_type": "execute_result"
    }
   ],
   "source": [
    "Exciton.NT"
   ]
  },
  {
   "cell_type": "code",
   "execution_count": 47,
   "metadata": {},
   "outputs": [],
   "source": [
    "Exciton.constructTrionHamiltonian()\n",
    "Exciton.constuctExcitonHamiltonian()"
   ]
  },
  {
   "cell_type": "code",
   "execution_count": 48,
   "metadata": {},
   "outputs": [],
   "source": [
    "Exciton.calculateAbsobtionSpectrumTrion(eta=0.0005)\n",
    "Exciton.calculateAbsobtionSpectrum(eta=0.0005)"
   ]
  },
  {
   "cell_type": "code",
   "execution_count": 49,
   "metadata": {},
   "outputs": [
    {
     "data": {
      "image/png": "[encoded data removed]",
      "text/plain": [
       "<Figure size 432x288 with 1 Axes>"
      ]
     },
     "metadata": {
      "needs_background": "light"
     },
     "output_type": "display_data"
    }
   ],
   "source": [
    "Exciton.plotAbsobtionSpectrum()\n",
    "plt.xlim([2.0,Exciton.Egap])\n",
    "plt.ylim([0,None])\n",
    "plt.grid()\n",
    "# # plt.yticks([])\n",
    "# plt.xlabel('Energy [eV]')\n",
    "# plt.ylabel('Absorption')\n",
    "# plt.title('Full:{0}x{0} Cutoff:0.6 With SOC'.format(24))\n",
    "# # plt.grid()\n",
    "# plt.savefig('With_SOC/Trion_vs_Exciton_{0}.png'.format(24),dpi=600)\n"
   ]
  },
  {
   "cell_type": "code",
   "execution_count": 50,
   "metadata": {},
   "outputs": [],
   "source": [
    "ET,DT=np.linalg.eigh(Exciton.HT)"
   ]
  },
  {
   "cell_type": "code",
   "execution_count": 53,
   "metadata": {},
   "outputs": [],
   "source": [
    "ET-=Exciton.trion_spectrum_shift"
   ]
  },
  {
   "cell_type": "code",
   "execution_count": 55,
   "metadata": {},
   "outputs": [],
   "source": [
    "P=np.zeros(Exciton.NT,dtype=complex)\n",
    "for i in range(Exciton.NT):\n",
    "    i1,i2,j=Exciton.trion_indexes[i]\n",
    "    x1,y1,c1=Exciton.conduction_states[i1]\n",
    "    x2,y2,c2=Exciton.conduction_states[i2]\n",
    "    xv,yv,v=Exciton.valence_states[j]\n",
    "    if x1==Exciton.trion_q[0] and y1==Exciton.trion_q[1]:\n",
    "        if x2==xv and y2==yv:\n",
    "            P[i]+=(Exciton.d[x2,y2,c2,v])\n",
    "    if x2==Exciton.trion_q[0] and y2==Exciton.trion_q[1]:\n",
    "        if x1==xv and y1==yv:\n",
    "            P[i]-=(Exciton.d[x1,y1,c1,v])"
   ]
  },
  {
   "cell_type": "code",
   "execution_count": 56,
   "metadata": {},
   "outputs": [],
   "source": [
    "PT="
   ]
  },
  {
   "cell_type": "code",
   "execution_count": 59,
   "metadata": {},
   "outputs": [
    {
     "data": {
      "text/plain": [
       "[<matplotlib.lines.Line2D at 0x7f4e5af87518>]"
      ]
     },
     "execution_count": 59,
     "metadata": {},
     "output_type": "execute_result"
    },
    {
     "data": {
      "image/png": "[encoded data removed]",
      "text/plain": [
       "<Figure size 432x288 with 1 Axes>"
      ]
     },
     "metadata": {
      "needs_background": "light"
     },
     "output_type": "display_data"
    }
   ],
   "source": [
    "plt.plot(ET,PT,'o')"
   ]
  },
  {
   "cell_type": "code",
   "execution_count": 60,
   "metadata": {},
   "outputs": [],
   "source": [
    "from scipy.sparse.linalg import eigsh"
   ]
  },
  {
   "cell_type": "code",
   "execution_count": 69,
   "metadata": {},
   "outputs": [],
   "source": [
    "E,D=eigsh(Exciton.HT,which='SA',k=2)"
   ]
  },
  {
   "cell_type": "code",
   "execution_count": 70,
   "metadata": {},
   "outputs": [
    {
     "data": {
      "text/plain": [
       "75.62477987903765"
      ]
     },
     "execution_count": 70,
     "metadata": {},
     "output_type": "execute_result"
    }
   ],
   "source": [
    "np.abs(np.sum(D[:,0].conj()*P))**2"
   ]
  },
  {
   "cell_type": "code",
   "execution_count": null,
   "metadata": {},
   "outputs": [],
   "source": []
  }
 ],
 "metadata": {
  "kernelspec": {
   "display_name": "Python 3",
   "language": "python",
   "name": "python3"
  },
  "language_info": {
   "codemirror_mode": {
    "name": "ipython",
    "version": 3
   },
   "file_extension": ".py",
   "mimetype": "text/x-python",
   "name": "python",
   "nbconvert_exporter": "python",
   "pygments_lexer": "ipython3",
   "version": "3.6.7"
  }
 },
 "nbformat": 4,
 "nbformat_minor": 2
}
