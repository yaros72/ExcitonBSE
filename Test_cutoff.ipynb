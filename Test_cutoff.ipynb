{
 "cells": [
  {
   "cell_type": "code",
   "execution_count": 1,
   "metadata": {},
   "outputs": [],
   "source": [
    "from ExcitonBSEKeldysh import ExcitonMoS2\n",
    "import numpy as np\n",
    "import matplotlib.pyplot as plt\n",
    "%matplotlib inline"
   ]
  },
  {
   "cell_type": "code",
   "execution_count": 2,
   "metadata": {},
   "outputs": [
    {
     "name": "stdout",
     "output_type": "stream",
     "text": [
      "Exciton Hamiltonian size: 680 K-space size: 170\n",
      "Construction Done!\n",
      "Exciton Hamiltonian size: 800 K-space size: 200\n",
      "Construction Done!\n",
      "Exciton Hamiltonian size: 848 K-space size: 212\n",
      "Construction Done!\n",
      "Exciton Hamiltonian size: 1064 K-space size: 266\n",
      "Construction Done!\n",
      "Exciton Hamiltonian size: 1136 K-space size: 284\n",
      "Construction Done!\n",
      "Exciton Hamiltonian size: 1376 K-space size: 344\n",
      "Construction Done!\n",
      "Exciton Hamiltonian size: 1520 K-space size: 380\n",
      "Construction Done!\n",
      "Exciton Hamiltonian size: 1640 K-space size: 410\n",
      "Construction Done!\n",
      "Exciton Hamiltonian size: 2000 K-space size: 500\n",
      "Construction Done!\n",
      "Exciton Hamiltonian size: 2192 K-space size: 548\n",
      "Construction Done!\n",
      "Exciton Hamiltonian size: 2552 K-space size: 638\n",
      "Construction Done!\n",
      "Exciton Hamiltonian size: 4688 K-space size: 1172\n",
      "Construction Done!\n",
      "Exciton Hamiltonian size: 6624 K-space size: 1656\n",
      "Construction Done!\n",
      "Exciton Hamiltonian size: 14400 K-space size: 3600\n",
      "Construction Done!\n"
     ]
    }
   ],
   "source": [
    "cutoff=[0.4,0.45,0.5,0.55,0.6,0.65,0.7,0.75,0.8,0.85,0.9,0.95,1.0,np.inf]\n",
    "A=[]\n",
    "B=[]\n",
    "A_opt=[]\n",
    "B_opt=[]\n",
    "K=[]\n",
    "# plt.figure()\n",
    "for cut in cutoff:\n",
    "    Exciton=ExcitonMoS2(epsilon=2.5,N=60,vb=[12,13],cb=[14,15],spin_orbit=True,cutoff=cut)\n",
    "    Exciton.constuctExcitonHamiltonian(Q=[0,0,0],optic=True)\n",
    "    E,D=np.linalg.eigh(Exciton.HH)\n",
    "    optical=np.zeros(Exciton.NH)\n",
    "    P=np.array([Exciton.dx[indx] for indx in Exciton.indexes])\n",
    "    for i in range(Exciton.NH):\n",
    "        optical[i]=np.abs(np.sum(P*D[:,i].conj()))**2\n",
    "    optical=optical[E<Exciton.Egap];E=E[E<Exciton.Egap]\n",
    "    E=E[np.argsort(optical)];optical=np.sort(optical)\n",
    "    \n",
    "    \n",
    "    K.append(int(np.sum(Exciton.weight)))\n",
    "    A.append(E[-3])\n",
    "    B.append(E[-1])\n",
    "    A_opt.append(optical[-3])\n",
    "    B_opt.append(optical[-1])\n",
    "    \n",
    "#     Exciton.calculateAbsobtionSpectrum(eta=0.01,n_iter=300,omega_n=5000)\n",
    "#     Exciton.plotAbsobtionSpectrum(label=str(cut))\n",
    "# plt.legend(loc='best')\n",
    "# plt.xlim([1.8,Exciton.Egap])\n",
    "# plt.ylim([0,1e4])"
   ]
  },
  {
   "cell_type": "code",
   "execution_count": 3,
   "metadata": {},
   "outputs": [
    {
     "data": {
      "image/png": "[encoded data removed]",
      "text/plain": [
       "<Figure size 432x288 with 1 Axes>"
      ]
     },
     "metadata": {
      "needs_background": "light"
     },
     "output_type": "display_data"
    }
   ],
   "source": [
    "# plt.figure(figsize=(8,6))\n",
    "plt.plot(cutoff,-(np.array(A)-A[-1])/(A[-1]-Exciton.Egap)*100,'o',label='A')\n",
    "plt.plot(cutoff,-(np.array(B)-B[-1])/(B[-1]-Exciton.Egap)*100,'o',label='B')\n",
    "plt.grid()\n",
    "plt.legend()\n",
    "plt.xlabel('Cutoff, eV')\n",
    "plt.ylabel('Error, %')\n",
    "plt.ylim([0,12])\n",
    "plt.savefig('Error_vs_cutoff.png',dpi=600)"
   ]
  },
  {
   "cell_type": "code",
   "execution_count": 4,
   "metadata": {},
   "outputs": [
    {
     "data": {
      "image/png": "[encoded data removed]",
      "text/plain": [
       "<Figure size 432x288 with 1 Axes>"
      ]
     },
     "metadata": {
      "needs_background": "light"
     },
     "output_type": "display_data"
    }
   ],
   "source": [
    "plt.plot(cutoff,(1-np.array(K)/K[-1])*100,'o')\n",
    "plt.grid()\n",
    "plt.xlabel('Cutoff, eV')\n",
    "plt.ylabel('Reduction of k-space, %')\n",
    "plt.ylim([50,100])\n",
    "plt.savefig('Reduction_vs_cutoff.png',dpi=600)"
   ]
  },
  {
   "cell_type": "code",
   "execution_count": null,
   "metadata": {},
   "outputs": [],
   "source": []
  }
 ],
 "metadata": {
  "kernelspec": {
   "display_name": "Python 3",
   "language": "python",
   "name": "python3"
  },
  "language_info": {
   "codemirror_mode": {
    "name": "ipython",
    "version": 3
   },
   "file_extension": ".py",
   "mimetype": "text/x-python",
   "name": "python",
   "nbconvert_exporter": "python",
   "pygments_lexer": "ipython3",
   "version": "3.6.7"
  }
 },
 "nbformat": 4,
 "nbformat_minor": 2
}
