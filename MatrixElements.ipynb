{
 "cells": [
  {
   "cell_type": "code",
   "execution_count": 1,
   "metadata": {},
   "outputs": [],
   "source": [
    "from ExcitonBSEKeldysh import ExcitonMoS2\n",
    "import numpy as np\n",
    "from itertools import product\n",
    "import matplotlib.pyplot as plt\n",
    "import numba\n",
    "from scipy.special import struve\n",
    "from scipy.special import yn\n",
    "from tqdm import tqdm\n",
    "%matplotlib inline"
   ]
  },
  {
   "cell_type": "markdown",
   "metadata": {},
   "source": [
    "## Solve optical exciton problem "
   ]
  },
  {
   "cell_type": "code",
   "execution_count": 2,
   "metadata": {},
   "outputs": [],
   "source": [
    "Exciton=ExcitonMoS2(epsilon=2.5,N=30,vb=[6],cb=[7],spin_orbit=False)\n",
    "Exciton.constuctExcitonHamiltonian(Q=[0,0,0])\n",
    "Exciton.solveExcitonHamiltonian(save=False)"
   ]
  },
  {
   "cell_type": "markdown",
   "metadata": {},
   "source": [
    "## Parameters"
   ]
  },
  {
   "cell_type": "code",
   "execution_count": 3,
   "metadata": {},
   "outputs": [],
   "source": [
    "NS=8 #Number of exciton states\n",
    "norm=0.9 #Norm of exciton wave function"
   ]
  },
  {
   "cell_type": "markdown",
   "metadata": {},
   "source": [
    "## Recalculate exciton wave function"
   ]
  },
  {
   "cell_type": "code",
   "execution_count": 4,
   "metadata": {},
   "outputs": [
    {
     "name": "stderr",
     "output_type": "stream",
     "text": [
      "100%|██████████| 8/8 [00:00<00:00, 533.05it/s]\n"
     ]
    }
   ],
   "source": [
    "N=Exciton.N;norb=Exciton.norb;\n",
    "D=Exciton.DH.reshape((N,N,Exciton.nc,Exciton.nv,Exciton.NH))\n",
    "D=D.transpose((4,0,1,2,3))\n",
    "DH=np.zeros((NS,N,N,norb,norb),dtype=np.complex)\n",
    "for s in tqdm(range(NS)):\n",
    "    for i,c in enumerate(Exciton.cb):\n",
    "        for j,v in enumerate(Exciton.vb):\n",
    "            DH[s]+=D[s,:,:,None,None,i,j]*Exciton.D[:,:,:,None,v].conj()*Exciton.D[:,:,None,:,c]\n",
    "D=np.abs(D.sum(axis=(3,4)).reshape(Exciton.NH,N**2))**2\n",
    "DH=DH.reshape((NS,N**2,norb,norb))"
   ]
  },
  {
   "cell_type": "markdown",
   "metadata": {},
   "source": [
    "## Sampling points in BZ according to norm of exciton wave function"
   ]
  },
  {
   "cell_type": "code",
   "execution_count": 5,
   "metadata": {},
   "outputs": [
    {
     "name": "stderr",
     "output_type": "stream",
     "text": [
      "100%|██████████| 8/8 [00:01<00:00,  5.88it/s]\n"
     ]
    }
   ],
   "source": [
    "points_array=[];indexes_array=[]\n",
    "for s in tqdm(range(NS)):\n",
    "    M=0.;points=[];indexes=[]\n",
    "    while True:\n",
    "        while True:\n",
    "            i=np.random.randint(D[s].size)\n",
    "            p=np.max(D[s])*np.random.random()\n",
    "            if p<D[s,i]:\n",
    "                break\n",
    "        point=(i//N,i%N)\n",
    "        if point not in points:\n",
    "            points.append(point)\n",
    "            indexes.append(i)\n",
    "            M+=D[s,i]\n",
    "        if M>norm:\n",
    "            break\n",
    "    indexes_array.append(np.array(indexes))\n",
    "    points_array.append(np.array(points))"
   ]
  },
  {
   "cell_type": "code",
   "execution_count": 6,
   "metadata": {},
   "outputs": [
    {
     "data": {
      "image/png": "[encoded data removed]",
      "text/plain": [
       "<Figure size 576x576 with 1 Axes>"
      ]
     },
     "metadata": {
      "needs_background": "light"
     },
     "output_type": "display_data"
    }
   ],
   "source": [
    "plt.figure(figsize=(8,8))\n",
    "for s in range(NS):\n",
    "    plt.plot(points_array[s][:,0],points_array[s][:,1],'o')\n",
    "    plt.xlim([0,N])\n",
    "    plt.ylim([0,N])\n",
    "plt.grid()"
   ]
  },
  {
   "cell_type": "markdown",
   "metadata": {},
   "source": [
    "## Generate coloumb interaction matrix W for four-point calculation"
   ]
  },
  {
   "cell_type": "code",
   "execution_count": 7,
   "metadata": {},
   "outputs": [],
   "source": [
    "x,y=np.meshgrid(np.arange(N),np.arange(N))\n",
    "X=np.empty((N,N,N,N),dtype=np.int);Y=np.empty((N,N,N,N),dtype=np.int)\n",
    "for i,j in product(range(N),range(N)):\n",
    "    X[i,j]=(x+i)%N\n",
    "    Y[i,j]=(y+j)%N\n",
    "W=Exciton.W.real[X,Y]"
   ]
  },
  {
   "cell_type": "markdown",
   "metadata": {},
   "source": [
    "## Calculate matrix element of interaction of exciton"
   ]
  },
  {
   "cell_type": "code",
   "execution_count": 8,
   "metadata": {},
   "outputs": [],
   "source": [
    "def matrix_element(indx,points_array,indexes_array,W,DH):\n",
    "    M=[points_array[s].shape[0] for s in indx]\n",
    "    # Generate coloumb matrix for reduced numbers of points in BZ \n",
    "    W_Full=np.empty(M)\n",
    "    for i0 in range(M[0]):\n",
    "        kx0=points_array[indx[0]][i0,0]\n",
    "        ky0=points_array[indx[0]][i0,1]\n",
    "        for i1 in range(M[1]):\n",
    "            kx1=points_array[indx[1]][i1,0]\n",
    "            ky1=points_array[indx[1]][i1,1]\n",
    "            for i2 in range(M[2]):\n",
    "                kx2=points_array[indx[2]][i2,0]\n",
    "                ky2=points_array[indx[2]][i2,1]\n",
    "                for i3 in range(M[3]):\n",
    "                    kx3=points_array[indx[3]][i3,0]\n",
    "                    ky3=points_array[indx[3]][i3,1]\n",
    "                    W_Full[i0,i1,i2,i3]=W[(kx1-kx2)%N,(ky1-ky2)%N,(kx0-kx3)%N,(ky0-ky3)%N]\n",
    "    # Generate exciton wave functions for reduced number of points in BZ \n",
    "    A0=DH[indx[0],indexes_array[indx[0]]].conj()\n",
    "    A1=DH[indx[1],indexes_array[indx[1]]].conj()\n",
    "    A2=DH[indx[2],indexes_array[indx[2]]]\n",
    "    A3=DH[indx[3],indexes_array[indx[3]]]\n",
    "    # Calculate direct matrix element\n",
    "    result =2*np.einsum('abcd,aij,bkl,cij,dkl',W_Full,A0,A1,A2,A3,casting='same_kind',optimize='optimal')\n",
    "    # Calculate exchange matrix element\n",
    "    result-=2*np.einsum('abcd,aij,bkl,cil,dkj',W_Full,A0,A1,A2,A3,casting='same_kind',optimize='optimal')\n",
    "    return result"
   ]
  },
  {
   "cell_type": "code",
   "execution_count": 9,
   "metadata": {},
   "outputs": [
    {
     "name": "stdout",
     "output_type": "stream",
     "text": [
      "CPU times: user 6.4 s, sys: 333 ms, total: 6.73 s\n",
      "Wall time: 3.61 s\n"
     ]
    },
    {
     "data": {
      "text/plain": [
       "(0.00012008299695048796-1.5809371668192984e-17j)"
      ]
     },
     "execution_count": 9,
     "metadata": {},
     "output_type": "execute_result"
    }
   ],
   "source": [
    "%%time\n",
    "matrix_element([0,0,0,0],points_array,indexes_array,W,DH)"
   ]
  },
  {
   "cell_type": "code",
   "execution_count": null,
   "metadata": {},
   "outputs": [],
   "source": [
    "import multiprocessing\n",
    "from functools import partial\n",
    "pool = multiprocessing.Pool(8)\n",
    "indexes=[[i0,i1,i2,i3] for i0,i1,i2,i3 in product(range(NS),range(NS),range(NS),range(NS))]\n",
    "result=pool.map(partial(matrix_element,points_array=points_array,indexes_array=indexes_array,W=W,DH=DH), indexes)\n",
    "result=np.array(result).reshape((NS,NS,NS,NS))"
   ]
  },
  {
   "cell_type": "code",
   "execution_count": null,
   "metadata": {},
   "outputs": [],
   "source": [
    "np.save('result',result)"
   ]
  },
  {
   "cell_type": "markdown",
   "metadata": {},
   "source": [
    "# Exciton Band Structure"
   ]
  },
  {
   "cell_type": "code",
   "execution_count": null,
   "metadata": {
    "scrolled": false
   },
   "outputs": [],
   "source": [
    "N=Exciton.N\n",
    "Q=[];k=0\n",
    "indx=np.zeros((N,N),dtype=np.int)\n",
    "for i in range(N):\n",
    "    for j in range(np.min([i+1,N-i+1])):\n",
    "        Q.append([i,j,0])\n",
    "        indx[i,j]=k;indx[-i,-j]=k;\n",
    "        indx[j,i]=k;indx[-j,-i]=k\n",
    "        k+=1\n",
    "EX=np.empty((len(Q),Exciton.NH))\n",
    "DX=np.empty((len(Q),Exciton.NH,Exciton.NH),dtype=np.complex)\n",
    "for k in tqdm(range(len(Q))):\n",
    "    Exciton.constuctExcitonHamiltonian(Q=Q[k])\n",
    "    Exciton.solveExcitonHamiltonian(save=False)\n",
    "    EX[k]=Exciton.EH;DX[k]=Exciton.DH"
   ]
  },
  {
   "cell_type": "code",
   "execution_count": null,
   "metadata": {},
   "outputs": [],
   "source": [
    "E=EX[indx]\n",
    "plt.figure(figsize=(12,8))\n",
    "plt.contourf((Exciton.K[:,:,0]-2.29565808/2),(Exciton.K[:,:,1]-2.29565808/2),np.fft.fftshift(E[:,:,0]),cmap='jet')#,marker='h',s=120)\n",
    "plt.axis('equal')\n",
    "plt.colorbar()"
   ]
  },
  {
   "cell_type": "code",
   "execution_count": null,
   "metadata": {},
   "outputs": [],
   "source": []
  }
 ],
 "metadata": {
  "kernelspec": {
   "display_name": "Python 3",
   "language": "python",
   "name": "python3"
  },
  "language_info": {
   "codemirror_mode": {
    "name": "ipython",
    "version": 3
   },
   "file_extension": ".py",
   "mimetype": "text/x-python",
   "name": "python",
   "nbconvert_exporter": "python",
   "pygments_lexer": "ipython3",
   "version": "3.7.0"
  }
 },
 "nbformat": 4,
 "nbformat_minor": 2
}
